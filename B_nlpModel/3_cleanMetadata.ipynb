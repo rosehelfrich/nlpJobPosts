{
 "cells": [
  {
   "cell_type": "code",
   "execution_count": 1,
   "metadata": {},
   "outputs": [],
   "source": [
    "import re\n",
    "import pandas as pd\n",
    "import numpy as np"
   ]
  },
  {
   "cell_type": "code",
   "execution_count": 2,
   "metadata": {},
   "outputs": [],
   "source": [
    "# Remove the special characters and images from a column. \n",
    "def removeSpecial(df_column):\n",
    "    return df_column.astype(str).replace(r\"[^\\w\\s,\\.:!\\/\\&\\-']+\", \"\", regex=True).str.strip()"
   ]
  },
  {
   "cell_type": "code",
   "execution_count": 3,
   "metadata": {},
   "outputs": [],
   "source": [
    "info_df = pd.read_csv('raw_info_df.csv').loc[:, ['jobTitle', 'description', 'employmentType', 'url', 'hiringOrganization.name', 'baseSalary.raw', 'baseSalary.valueMax', 'jobLocation.raw',]]\n",
    "\n",
    "info_df.drop_duplicates(subset=['description'], inplace=True, ignore_index=True)"
   ]
  },
  {
   "cell_type": "code",
   "execution_count": 4,
   "metadata": {},
   "outputs": [],
   "source": [
    "# These are the columns that can go through the removeSpecial function at the beginning.  \n",
    "# The other columns are not yet ready - it's helpful to have the dollar symbol in front of a salary.\n",
    "tidyColumnsBegin = ['description', 'employmentType', 'hiringOrganization.name', 'jobLocation.raw']\n",
    "\n",
    "for col in tidyColumnsBegin:\n",
    "    info_df[col] = removeSpecial(info_df[col])"
   ]
  },
  {
   "cell_type": "code",
   "execution_count": 5,
   "metadata": {},
   "outputs": [],
   "source": [
    "# Updates for info_df['employmentType'] \n",
    "# Updated values to ensure value consistency. \n",
    "typeMask = info_df['employmentType'].str.contains(\"full\", case=False)\n",
    "info_df.loc[typeMask,['employmentType']] = \"Full-Time\"\n",
    "\n",
    "# Removed values that do not align with the column title.\n",
    "validEmploy = ['Remote', 'Full-Time', 'Freelance/Independent Contract']\n",
    "info_df['employmentType'] = info_df['employmentType'].where(info_df['employmentType'].isin(validEmploy), np.nan)"
   ]
  },
  {
   "cell_type": "code",
   "execution_count": 6,
   "metadata": {},
   "outputs": [],
   "source": [
    "# Splits the title to remove the location information. \n",
    "# The location information was checked against the df['jobLocation.raw'] rows with missing information, but no additional info was found.\n",
    "info_df['jobTitle'] = info_df['jobTitle'].str.split('(', n=1, expand=True)[0]\n",
    "info_df['jobTitle'] = removeSpecial(info_df['jobTitle'])\n",
    "\n",
    "# Updated values for info_df['jobLocation.raw']\n",
    "locMask = info_df['jobLocation.raw'].str.contains(\"Remote\", case=False, na=None, regex=True)\n",
    "info_df.loc[locMask,['jobLocation.raw']] = \"Remote\"\n",
    "\n",
    "info_df['hiringOrganization.name'] = info_df['hiringOrganization.name'].str.replace(\"About\", \"\", case=False, regex=True).str.strip()"
   ]
  },
  {
   "cell_type": "code",
   "execution_count": 7,
   "metadata": {},
   "outputs": [],
   "source": [
    "# Extracting the salaries in the baseSalary column.\n",
    "# \"\\$?\\d{2,3},?\\d{3}\" For standard salary figures, an optional dollar sign and an optional comma, being 5-6 digits total\n",
    "# \"\\$?\\d{2,3}[kK]\" For salaries expressed with k or K, digits with an optional dollar sign. \n",
    "\n",
    "info_df['baseSalary.raw'] = info_df['baseSalary.raw'].astype(str)\n",
    "patternSalary = r\"(\\$?\\d{2,3},?\\d{3}|\\$?\\d{2,3}[kK])\"\n",
    "\n",
    "# Keep index to create ['level_0'], it is the index foreign index to info_df.\n",
    "salary_df = info_df['baseSalary.raw'].str.extractall(patternSalary).reset_index(drop=False)\n",
    "\n",
    "# Standardized extracted values, located in salary_df[0] \n",
    "salary_df[0] = salary_df[0].str.lower().replace({'401k': np.nan, 'k': '000', ',': ''}, regex=True)\n",
    "salary_df.dropna(axis=0, inplace=True)\n",
    "\n",
    "salary_df[0] = removeSpecial(salary_df[0])\n",
    "salary_df[0] = salary_df[0].astype('int64')\n",
    "\n",
    "minSalary = salary_df.groupby('level_0')[0].min().reset_index(name='minSalary')\n",
    "maxSalary = salary_df.groupby('level_0')[0].max().reset_index(name='maxSalary')\n",
    "\n",
    "salary_df = pd.merge(minSalary, maxSalary, on='level_0', how='outer').set_index('level_0')"
   ]
  },
  {
   "cell_type": "code",
   "execution_count": 8,
   "metadata": {},
   "outputs": [],
   "source": [
    "# Joining the two dfs adds additional columns on the indexes of info_df and salary_df\n",
    "df = info_df.join(salary_df).copy()\n",
    "df.drop(['baseSalary.raw', 'baseSalary.valueMax'], axis=1, inplace=True)\n",
    "df.columns = ['jobTitle', 'description', 'employmentType', 'url', 'hiringOrganization', 'jobLocation', 'minSalary', 'maxSalary']\n",
    "\n",
    "# Reordered columns\n",
    "df = df[['jobTitle', 'description', 'jobLocation', 'minSalary', 'maxSalary', 'hiringOrganization', 'employmentType', 'url', ]]\n",
    "df.replace('nan', np.nan, inplace=True)"
   ]
  },
  {
   "cell_type": "code",
   "execution_count": 9,
   "metadata": {},
   "outputs": [],
   "source": [
    "df['jobTitle'] = df['jobTitle'].str.replace(r\"Sr\\W\", \"Senior \", case=False, regex=True)\\\n",
    "                                .str.replace(r\" - | & |/\", \" \", regex=True)\\\n",
    "                                .str.replace(r\"[,]\", \"\", regex=True)\\\n",
    "                                .str.replace(r\"\\s{2,}\", \" \", regex=True).str.strip()\\\n",
    "                                .replace(\"\", \"Data Scientist\")# Adding the most frequent jobTitle for any missing jobTitles."
   ]
  },
  {
   "cell_type": "code",
   "execution_count": 10,
   "metadata": {},
   "outputs": [],
   "source": [
    "df.to_csv('metadataCleaned.csv', index=False)"
   ]
  },
  {
   "cell_type": "code",
   "execution_count": 11,
   "metadata": {},
   "outputs": [
    {
     "name": "stdout",
     "output_type": "stream",
     "text": [
      "<class 'pandas.core.frame.DataFrame'>\n",
      "RangeIndex: 507 entries, 0 to 506\n",
      "Data columns (total 8 columns):\n",
      " #   Column              Non-Null Count  Dtype  \n",
      "---  ------              --------------  -----  \n",
      " 0   jobTitle            507 non-null    object \n",
      " 1   description         507 non-null    object \n",
      " 2   jobLocation         497 non-null    object \n",
      " 3   minSalary           225 non-null    float64\n",
      " 4   maxSalary           225 non-null    float64\n",
      " 5   hiringOrganization  244 non-null    object \n",
      " 6   employmentType      54 non-null     object \n",
      " 7   url                 507 non-null    object \n",
      "dtypes: float64(2), object(6)\n",
      "memory usage: 31.8+ KB\n"
     ]
    }
   ],
   "source": [
    "df.info()"
   ]
  },
  {
   "cell_type": "code",
   "execution_count": 12,
   "metadata": {},
   "outputs": [
    {
     "data": {
      "text/html": [
       "<div>\n",
       "<style scoped>\n",
       "    .dataframe tbody tr th:only-of-type {\n",
       "        vertical-align: middle;\n",
       "    }\n",
       "\n",
       "    .dataframe tbody tr th {\n",
       "        vertical-align: top;\n",
       "    }\n",
       "\n",
       "    .dataframe thead th {\n",
       "        text-align: right;\n",
       "    }\n",
       "</style>\n",
       "<table border=\"1\" class=\"dataframe\">\n",
       "  <thead>\n",
       "    <tr style=\"text-align: right;\">\n",
       "      <th></th>\n",
       "      <th>jobTitle</th>\n",
       "      <th>description</th>\n",
       "      <th>jobLocation</th>\n",
       "      <th>minSalary</th>\n",
       "      <th>maxSalary</th>\n",
       "      <th>hiringOrganization</th>\n",
       "      <th>employmentType</th>\n",
       "      <th>url</th>\n",
       "    </tr>\n",
       "  </thead>\n",
       "  <tbody>\n",
       "    <tr>\n",
       "      <th>0</th>\n",
       "      <td>Senior Scientist</td>\n",
       "      <td>At Element Biosciences, we are passionate abou...</td>\n",
       "      <td>San Diego, CA</td>\n",
       "      <td>126000.0</td>\n",
       "      <td>165000.0</td>\n",
       "      <td>Element Biosciences</td>\n",
       "      <td>Full-Time</td>\n",
       "      <td>https://builtin.com/job/sr-scientist/2179388</td>\n",
       "    </tr>\n",
       "    <tr>\n",
       "      <th>1</th>\n",
       "      <td>Data Scientist Finance</td>\n",
       "      <td>About Us:\\n\\nLive experiences help people cros...</td>\n",
       "      <td>Remote</td>\n",
       "      <td>173000.0</td>\n",
       "      <td>205000.0</td>\n",
       "      <td>Gametime United</td>\n",
       "      <td>NaN</td>\n",
       "      <td>https://builtin.com/job/data-scientist-finance...</td>\n",
       "    </tr>\n",
       "    <tr>\n",
       "      <th>2</th>\n",
       "      <td>Air Quality Modeling Scientist</td>\n",
       "      <td>PSE Healthy Energy is seeking a full-time air ...</td>\n",
       "      <td>Remote</td>\n",
       "      <td>75000.0</td>\n",
       "      <td>97500.0</td>\n",
       "      <td>PSE Healthy Energy</td>\n",
       "      <td>Remote</td>\n",
       "      <td>https://builtin.com/job/air-quality-modeling-s...</td>\n",
       "    </tr>\n",
       "    <tr>\n",
       "      <th>3</th>\n",
       "      <td>Data Scientist</td>\n",
       "      <td>We are interested in every qualified candidate...</td>\n",
       "      <td>Chicago, IL</td>\n",
       "      <td>NaN</td>\n",
       "      <td>NaN</td>\n",
       "      <td>Enova</td>\n",
       "      <td>NaN</td>\n",
       "      <td>https://builtin.com/job/data-scientist-hybrid/...</td>\n",
       "    </tr>\n",
       "    <tr>\n",
       "      <th>4</th>\n",
       "      <td>Marketing Data Research Specialist</td>\n",
       "      <td>Company Overview\\n\\nAdCellerant is an award-wi...</td>\n",
       "      <td>Greater Denver Area</td>\n",
       "      <td>55000.0</td>\n",
       "      <td>60000.0</td>\n",
       "      <td>AdCellerant</td>\n",
       "      <td>NaN</td>\n",
       "      <td>https://builtin.com/job/data/marketing-data-re...</td>\n",
       "    </tr>\n",
       "    <tr>\n",
       "      <th>5</th>\n",
       "      <td>Manager Data Science</td>\n",
       "      <td>WeAreCrowdStrike and our mission is to stop br...</td>\n",
       "      <td>Wilmington, NC</td>\n",
       "      <td>130000.0</td>\n",
       "      <td>205000.0</td>\n",
       "      <td>NaN</td>\n",
       "      <td>NaN</td>\n",
       "      <td>https://builtin.com/job/manager-data-science/2...</td>\n",
       "    </tr>\n",
       "    <tr>\n",
       "      <th>6</th>\n",
       "      <td>Revenue Operations Analyst</td>\n",
       "      <td>Upgrade is a fintech company that provides aff...</td>\n",
       "      <td>Atlanta, GA</td>\n",
       "      <td>NaN</td>\n",
       "      <td>NaN</td>\n",
       "      <td>NaN</td>\n",
       "      <td>NaN</td>\n",
       "      <td>https://builtin.com/job/revenue-operations-ana...</td>\n",
       "    </tr>\n",
       "    <tr>\n",
       "      <th>7</th>\n",
       "      <td>Data Scientist</td>\n",
       "      <td>Shape the future with intelligence and creativ...</td>\n",
       "      <td>San Francisco, CA</td>\n",
       "      <td>90000.0</td>\n",
       "      <td>105000.0</td>\n",
       "      <td>The Creative Data Company</td>\n",
       "      <td>NaN</td>\n",
       "      <td>https://builtin.com/job/data-scientist/2272211</td>\n",
       "    </tr>\n",
       "    <tr>\n",
       "      <th>8</th>\n",
       "      <td>Senior Lead Data Scientist</td>\n",
       "      <td>Headquartered in Boston, Forward Financing has...</td>\n",
       "      <td>Remote</td>\n",
       "      <td>55000.0</td>\n",
       "      <td>55000.0</td>\n",
       "      <td>NaN</td>\n",
       "      <td>NaN</td>\n",
       "      <td>https://builtin.com/job/senior-data-scientist/...</td>\n",
       "    </tr>\n",
       "    <tr>\n",
       "      <th>9</th>\n",
       "      <td>Solaria Labs Data Science Co-op</td>\n",
       "      <td>Pay Philosophy\\nThe typical starting salary ra...</td>\n",
       "      <td>Solaria Labs, Boston, MA</td>\n",
       "      <td>33000.0</td>\n",
       "      <td>83000.0</td>\n",
       "      <td>Liberty Mutual Insurance</td>\n",
       "      <td>NaN</td>\n",
       "      <td>https://builtin.com/job/solaria-labs-data-scie...</td>\n",
       "    </tr>\n",
       "  </tbody>\n",
       "</table>\n",
       "</div>"
      ],
      "text/plain": [
       "                             jobTitle  \\\n",
       "0                    Senior Scientist   \n",
       "1              Data Scientist Finance   \n",
       "2      Air Quality Modeling Scientist   \n",
       "3                      Data Scientist   \n",
       "4  Marketing Data Research Specialist   \n",
       "5                Manager Data Science   \n",
       "6          Revenue Operations Analyst   \n",
       "7                      Data Scientist   \n",
       "8          Senior Lead Data Scientist   \n",
       "9     Solaria Labs Data Science Co-op   \n",
       "\n",
       "                                         description  \\\n",
       "0  At Element Biosciences, we are passionate abou...   \n",
       "1  About Us:\\n\\nLive experiences help people cros...   \n",
       "2  PSE Healthy Energy is seeking a full-time air ...   \n",
       "3  We are interested in every qualified candidate...   \n",
       "4  Company Overview\\n\\nAdCellerant is an award-wi...   \n",
       "5  WeAreCrowdStrike and our mission is to stop br...   \n",
       "6  Upgrade is a fintech company that provides aff...   \n",
       "7  Shape the future with intelligence and creativ...   \n",
       "8  Headquartered in Boston, Forward Financing has...   \n",
       "9  Pay Philosophy\\nThe typical starting salary ra...   \n",
       "\n",
       "                jobLocation  minSalary  maxSalary         hiringOrganization  \\\n",
       "0             San Diego, CA   126000.0   165000.0        Element Biosciences   \n",
       "1                    Remote   173000.0   205000.0            Gametime United   \n",
       "2                    Remote    75000.0    97500.0         PSE Healthy Energy   \n",
       "3               Chicago, IL        NaN        NaN                      Enova   \n",
       "4       Greater Denver Area    55000.0    60000.0                AdCellerant   \n",
       "5            Wilmington, NC   130000.0   205000.0                        NaN   \n",
       "6               Atlanta, GA        NaN        NaN                        NaN   \n",
       "7         San Francisco, CA    90000.0   105000.0  The Creative Data Company   \n",
       "8                    Remote    55000.0    55000.0                        NaN   \n",
       "9  Solaria Labs, Boston, MA    33000.0    83000.0   Liberty Mutual Insurance   \n",
       "\n",
       "  employmentType                                                url  \n",
       "0      Full-Time       https://builtin.com/job/sr-scientist/2179388  \n",
       "1            NaN  https://builtin.com/job/data-scientist-finance...  \n",
       "2         Remote  https://builtin.com/job/air-quality-modeling-s...  \n",
       "3            NaN  https://builtin.com/job/data-scientist-hybrid/...  \n",
       "4            NaN  https://builtin.com/job/data/marketing-data-re...  \n",
       "5            NaN  https://builtin.com/job/manager-data-science/2...  \n",
       "6            NaN  https://builtin.com/job/revenue-operations-ana...  \n",
       "7            NaN     https://builtin.com/job/data-scientist/2272211  \n",
       "8            NaN  https://builtin.com/job/senior-data-scientist/...  \n",
       "9            NaN  https://builtin.com/job/solaria-labs-data-scie...  "
      ]
     },
     "execution_count": 12,
     "metadata": {},
     "output_type": "execute_result"
    }
   ],
   "source": [
    "df.head(10)"
   ]
  },
  {
   "cell_type": "code",
   "execution_count": 13,
   "metadata": {},
   "outputs": [
    {
     "data": {
      "text/plain": [
       "jobTitle              320\n",
       "description           507\n",
       "jobLocation           145\n",
       "minSalary             134\n",
       "maxSalary             127\n",
       "hiringOrganization    234\n",
       "employmentType          3\n",
       "url                   507\n",
       "dtype: int64"
      ]
     },
     "execution_count": 13,
     "metadata": {},
     "output_type": "execute_result"
    }
   ],
   "source": [
    "df.nunique()"
   ]
  }
 ],
 "metadata": {
  "kernelspec": {
   "display_name": "base",
   "language": "python",
   "name": "python3"
  },
  "language_info": {
   "codemirror_mode": {
    "name": "ipython",
    "version": 3
   },
   "file_extension": ".py",
   "mimetype": "text/x-python",
   "name": "python",
   "nbconvert_exporter": "python",
   "pygments_lexer": "ipython3",
   "version": "3.11.7"
  }
 },
 "nbformat": 4,
 "nbformat_minor": 2
}
