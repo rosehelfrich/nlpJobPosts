{
 "cells": [
  {
   "cell_type": "code",
   "execution_count": 1,
   "metadata": {},
   "outputs": [],
   "source": [
    "import pandas as pd \n",
    "import spacy\n",
    "import re\n",
    "\n",
    "from spacy.pipeline import EntityRuler"
   ]
  },
  {
   "cell_type": "code",
   "execution_count": 2,
   "metadata": {},
   "outputs": [],
   "source": [
    "nlp = spacy.load(\"en_core_web_md\")\n",
    "\n",
    "# Updated Spacy Entities\n",
    "# Tokens like \"Sklearn\" and \"IoT\" were incorrectly labeled as spacy entities.\n",
    "# These patterns update the token labels as \"0\" so they are not removed from the text.  \n",
    "patterns = [{\"label\": \"O\", \"pattern\": \"Sklearn\"},\n",
    "            {\"label\": \"O\", \"pattern\": \"IoT\"},\n",
    "            {\"label\": \"O\", \"pattern\": \"Databricks\"},\n",
    "            {\"label\": \"O\", \"pattern\": \"Bioanalyzer\"},\n",
    "            {\"label\": \"O\", \"pattern\": \"Biotech\"},\n",
    "            {\"label\": \"O\", \"pattern\": \"BioHive\"},\n",
    "            {\"label\": \"O\", \"pattern\": \"MLOps\"},\n",
    "            ]\n",
    "\n",
    "ruler = nlp.add_pipe('entity_ruler', before='ner')\n",
    "ruler.add_patterns(patterns)\n",
    "\n",
    "#nlp.pipe_names"
   ]
  },
  {
   "cell_type": "code",
   "execution_count": 3,
   "metadata": {},
   "outputs": [],
   "source": [
    "df = pd.read_csv('metadataCleaned.csv')"
   ]
  },
  {
   "cell_type": "code",
   "execution_count": 4,
   "metadata": {},
   "outputs": [],
   "source": [
    "# Remove Sections of Text based on keyphrases. \n",
    "\n",
    "def removeEnts(text):\n",
    "    doc = nlp(text)\n",
    "    newText = [token.text + token.whitespace_ for token in doc if token.ent_type_ not in [\"GPE\", \"LOC\", \"DATE\", \"CARDINAL\", \"ORDINAL\"]]\n",
    "    return \"\".join(newText)\n",
    "\n",
    "def removeSection(text, phrase):\n",
    "    pattern = rf'(?i)(\\n.*?)({re.escape(phrase)}.*?)(\\n|$)'\n",
    "    newText = re.sub(pattern, '', text, flags=re.IGNORECASE)\n",
    "    return newText\n",
    "\n",
    "def removePhraseToSectionEnd(text, phrase):\n",
    "    pattern = rf'(?i)({re.escape(phrase)}.*?)(\\n|$)'\n",
    "    newText = re.sub(pattern, '', text, flags=re.IGNORECASE)\n",
    "    return newText\n",
    "\n",
    "\n",
    "# Removed standard company statements on equal opportunity, benefit packages, and compensation to enhance data summary and model accuracy.\n",
    "# Individually checked sections where the removed section exceeded the length of the remaining section.  Spot checked remaining sections.  \n",
    "descriptionShort = df['description'].copy()\n",
    "\n",
    "phrases = [\"equal opportunity\", \"Equal Employment\", \"discriminate\", \"race, color, religion\", \"sexual orientation\", \"PTO \", \"Benefits\", \"Compensation\", \"competitive\", \"COVID\", \"salary\", \"Health insurance\", \"applicants\", \"applicant\", \"dental\", ] \n",
    "\n",
    "for p in phrases:\n",
    "    descriptionShort = descriptionShort.apply(removeSection, phrase=p)\n",
    "    descriptionShort = descriptionShort.apply(removePhraseToSectionEnd, phrase=p)"
   ]
  },
  {
   "cell_type": "code",
   "execution_count": 5,
   "metadata": {},
   "outputs": [],
   "source": [
    "df['jobTitle'] = df['jobTitle'].apply(removeEnts)\n",
    "df['descriptionShort'] = descriptionShort.apply(removeEnts)"
   ]
  },
  {
   "cell_type": "code",
   "execution_count": 6,
   "metadata": {},
   "outputs": [],
   "source": [
    "# Text modifications\n",
    "df['descriptionShort'] = df['descriptionShort'].str.replace(r\"R&D\", \"Research and Development\", case=False, regex=True)\\\n",
    "                                                .str.replace(r\"&\", \"\", regex=True)\\\n",
    "                                                .str.replace(r\"A/B\", \"A-B\", regex=True)\\\n",
    "                                                .str.replace(r\"/\", \" \", regex=True)\\\n",
    "                                                .str.replace(r\"\\s{2,}\", \" \", regex=True).str.strip()\\\n",
    "                                                .str.replace(r\"\\n\", \" \", regex=True)"
   ]
  },
  {
   "cell_type": "code",
   "execution_count": 7,
   "metadata": {},
   "outputs": [],
   "source": [
    "df.to_csv('dfCleaned.csv', index=False)"
   ]
  },
  {
   "cell_type": "code",
   "execution_count": 8,
   "metadata": {},
   "outputs": [
    {
     "data": {
      "text/html": [
       "<div>\n",
       "<style scoped>\n",
       "    .dataframe tbody tr th:only-of-type {\n",
       "        vertical-align: middle;\n",
       "    }\n",
       "\n",
       "    .dataframe tbody tr th {\n",
       "        vertical-align: top;\n",
       "    }\n",
       "\n",
       "    .dataframe thead th {\n",
       "        text-align: right;\n",
       "    }\n",
       "</style>\n",
       "<table border=\"1\" class=\"dataframe\">\n",
       "  <thead>\n",
       "    <tr style=\"text-align: right;\">\n",
       "      <th></th>\n",
       "      <th>jobTitle</th>\n",
       "      <th>description</th>\n",
       "      <th>jobLocation</th>\n",
       "      <th>minSalary</th>\n",
       "      <th>maxSalary</th>\n",
       "      <th>hiringOrganization</th>\n",
       "      <th>employmentType</th>\n",
       "      <th>url</th>\n",
       "      <th>descriptionShort</th>\n",
       "    </tr>\n",
       "  </thead>\n",
       "  <tbody>\n",
       "    <tr>\n",
       "      <th>0</th>\n",
       "      <td>Senior Scientist</td>\n",
       "      <td>At Element Biosciences, we are passionate abou...</td>\n",
       "      <td>San Diego, CA</td>\n",
       "      <td>126000.0</td>\n",
       "      <td>165000.0</td>\n",
       "      <td>Element Biosciences</td>\n",
       "      <td>Full-Time</td>\n",
       "      <td>https://builtin.com/job/sr-scientist/2179388</td>\n",
       "      <td>At Element Biosciences, we are passionate abou...</td>\n",
       "    </tr>\n",
       "    <tr>\n",
       "      <th>1</th>\n",
       "      <td>Data Scientist Finance</td>\n",
       "      <td>About Us:\\n\\nLive experiences help people cros...</td>\n",
       "      <td>Remote</td>\n",
       "      <td>173000.0</td>\n",
       "      <td>205000.0</td>\n",
       "      <td>Gametime United</td>\n",
       "      <td>NaN</td>\n",
       "      <td>https://builtin.com/job/data-scientist-finance...</td>\n",
       "      <td>About Us: Live experiences help people cross t...</td>\n",
       "    </tr>\n",
       "    <tr>\n",
       "      <th>2</th>\n",
       "      <td>Air Quality Modeling Scientist</td>\n",
       "      <td>PSE Healthy Energy is seeking a full-time air ...</td>\n",
       "      <td>Remote</td>\n",
       "      <td>75000.0</td>\n",
       "      <td>97500.0</td>\n",
       "      <td>PSE Healthy Energy</td>\n",
       "      <td>Remote</td>\n",
       "      <td>https://builtin.com/job/air-quality-modeling-s...</td>\n",
       "      <td>PSE Healthy Energy is seeking a full-time air ...</td>\n",
       "    </tr>\n",
       "    <tr>\n",
       "      <th>3</th>\n",
       "      <td>Data Scientist</td>\n",
       "      <td>We are interested in every qualified candidate...</td>\n",
       "      <td>Chicago, IL</td>\n",
       "      <td>NaN</td>\n",
       "      <td>NaN</td>\n",
       "      <td>Enova</td>\n",
       "      <td>NaN</td>\n",
       "      <td>https://builtin.com/job/data-scientist-hybrid/...</td>\n",
       "      <td>We are interested in every qualified candidate...</td>\n",
       "    </tr>\n",
       "    <tr>\n",
       "      <th>4</th>\n",
       "      <td>Marketing Data Research Specialist</td>\n",
       "      <td>Company Overview\\n\\nAdCellerant is an award-wi...</td>\n",
       "      <td>Greater Denver Area</td>\n",
       "      <td>55000.0</td>\n",
       "      <td>60000.0</td>\n",
       "      <td>AdCellerant</td>\n",
       "      <td>NaN</td>\n",
       "      <td>https://builtin.com/job/data/marketing-data-re...</td>\n",
       "      <td>Company Overview AdCellerant is an award-winni...</td>\n",
       "    </tr>\n",
       "  </tbody>\n",
       "</table>\n",
       "</div>"
      ],
      "text/plain": [
       "                             jobTitle  \\\n",
       "0                    Senior Scientist   \n",
       "1              Data Scientist Finance   \n",
       "2      Air Quality Modeling Scientist   \n",
       "3                      Data Scientist   \n",
       "4  Marketing Data Research Specialist   \n",
       "\n",
       "                                         description          jobLocation  \\\n",
       "0  At Element Biosciences, we are passionate abou...        San Diego, CA   \n",
       "1  About Us:\\n\\nLive experiences help people cros...               Remote   \n",
       "2  PSE Healthy Energy is seeking a full-time air ...               Remote   \n",
       "3  We are interested in every qualified candidate...          Chicago, IL   \n",
       "4  Company Overview\\n\\nAdCellerant is an award-wi...  Greater Denver Area   \n",
       "\n",
       "   minSalary  maxSalary   hiringOrganization employmentType  \\\n",
       "0   126000.0   165000.0  Element Biosciences      Full-Time   \n",
       "1   173000.0   205000.0      Gametime United            NaN   \n",
       "2    75000.0    97500.0   PSE Healthy Energy         Remote   \n",
       "3        NaN        NaN                Enova            NaN   \n",
       "4    55000.0    60000.0          AdCellerant            NaN   \n",
       "\n",
       "                                                 url  \\\n",
       "0       https://builtin.com/job/sr-scientist/2179388   \n",
       "1  https://builtin.com/job/data-scientist-finance...   \n",
       "2  https://builtin.com/job/air-quality-modeling-s...   \n",
       "3  https://builtin.com/job/data-scientist-hybrid/...   \n",
       "4  https://builtin.com/job/data/marketing-data-re...   \n",
       "\n",
       "                                    descriptionShort  \n",
       "0  At Element Biosciences, we are passionate abou...  \n",
       "1  About Us: Live experiences help people cross t...  \n",
       "2  PSE Healthy Energy is seeking a full-time air ...  \n",
       "3  We are interested in every qualified candidate...  \n",
       "4  Company Overview AdCellerant is an award-winni...  "
      ]
     },
     "execution_count": 8,
     "metadata": {},
     "output_type": "execute_result"
    }
   ],
   "source": [
    "df.head()"
   ]
  },
  {
   "cell_type": "code",
   "execution_count": 9,
   "metadata": {},
   "outputs": [
    {
     "data": {
      "text/plain": [
       "jobTitle              319\n",
       "description           507\n",
       "jobLocation           145\n",
       "minSalary             134\n",
       "maxSalary             127\n",
       "hiringOrganization    234\n",
       "employmentType          3\n",
       "url                   507\n",
       "descriptionShort      506\n",
       "dtype: int64"
      ]
     },
     "execution_count": 9,
     "metadata": {},
     "output_type": "execute_result"
    }
   ],
   "source": [
    "# There are still 319 unique jobTitles for jobs that should have similar titles. \n",
    "df.nunique()"
   ]
  },
  {
   "cell_type": "code",
   "execution_count": 10,
   "metadata": {},
   "outputs": [
    {
     "name": "stdout",
     "output_type": "stream",
     "text": [
      "<class 'pandas.core.frame.DataFrame'>\n",
      "RangeIndex: 507 entries, 0 to 506\n",
      "Data columns (total 9 columns):\n",
      " #   Column              Non-Null Count  Dtype  \n",
      "---  ------              --------------  -----  \n",
      " 0   jobTitle            507 non-null    object \n",
      " 1   description         507 non-null    object \n",
      " 2   jobLocation         497 non-null    object \n",
      " 3   minSalary           225 non-null    float64\n",
      " 4   maxSalary           225 non-null    float64\n",
      " 5   hiringOrganization  244 non-null    object \n",
      " 6   employmentType      54 non-null     object \n",
      " 7   url                 507 non-null    object \n",
      " 8   descriptionShort    507 non-null    object \n",
      "dtypes: float64(2), object(7)\n",
      "memory usage: 35.8+ KB\n"
     ]
    }
   ],
   "source": [
    "df.info()"
   ]
  },
  {
   "cell_type": "markdown",
   "metadata": {},
   "source": [
    "# End DeepCleaning\n",
    "# Finding Sections, Testing, and Notes"
   ]
  },
  {
   "cell_type": "code",
   "execution_count": null,
   "metadata": {},
   "outputs": [],
   "source": [
    "'''\n",
    "def findEnts(text):\n",
    "    doc = nlp(text)\n",
    "    newText = [token.text for token in doc if token.ent_type_ in [\"GPE\", \"LOC\", \"DATE\", \"CARDINAL\", \"ORDINAL\"]]\n",
    "    #if newText != '':\n",
    "    return \" \".join(newText)\n",
    "\n",
    "def findSection(text, phrase):\n",
    "    pattern = rf'(?i)(\\n.*?)({re.escape(phrase)}.*?)(\\n|$)'\n",
    "    newText = re.findall(pattern, text, flags=re.IGNORECASE)\n",
    "    newTextFormatted = ' '.join([''.join(match) for match in newText]) # Must do a double join to get the text as a string instead of a list\n",
    "    return newTextFormatted\n",
    "\n",
    "def findPhrase(text, phrase):\n",
    "    pattern = rf'(?i)({re.escape(phrase)}.*?)(\\n|$)'\n",
    "    newText = re.findall(pattern, text, flags=re.IGNORECASE)\n",
    "    newTextFormatted = ' '.join([''.join(match) for match in newText]) # Must do a double join to get the text as a string instead of a list\n",
    "    return newTextFormatted\n",
    "\n",
    "test = pd.DataFrame()\n",
    "'''"
   ]
  },
  {
   "cell_type": "code",
   "execution_count": null,
   "metadata": {},
   "outputs": [],
   "source": [
    "#test['description find Ents'] = df['descriptionShort'].apply(findEnts)"
   ]
  },
  {
   "cell_type": "code",
   "execution_count": null,
   "metadata": {},
   "outputs": [],
   "source": [
    "#df['description'].apply(lambda x: re.findall(\"(\\w+\\/\\w+)+\", x, flags=re.IGNORECASE))#.value_counts()\n",
    "#df['description'].apply(lambda x: re.findall(\"(\\w+&\\w+)+\", x, flags=re.IGNORECASE)).value_counts()\n",
    "#df['description'].apply(lambda x: re.findall(\"(\\w+\\-\\w+)+\", x, flags=re.IGNORECASE)).value_counts()"
   ]
  },
  {
   "cell_type": "code",
   "execution_count": null,
   "metadata": {},
   "outputs": [],
   "source": [
    "#test['find section']= df['descriptionShort'].apply(findSection, phrase='dental')\n",
    "\n",
    "# These words were cleared. \n",
    "# \n",
    "\n",
    "\n",
    "#test.to_csv('test')\n",
    "\n",
    "#test['find section'].value_counts()"
   ]
  },
  {
   "cell_type": "code",
   "execution_count": null,
   "metadata": {},
   "outputs": [],
   "source": [
    "#test['find PTO section'] = df['descriptionShort'].apply(findSection, phrase='PTO ')\n",
    "#test['find Benefits section'] = df['descriptionShort'].apply(findSection, phrase='Benefits')\n",
    "#test['find Compensation section'] = df['descriptionShort'].apply(findSection, phrase='Compensation')\n"
   ]
  },
  {
   "cell_type": "code",
   "execution_count": null,
   "metadata": {},
   "outputs": [],
   "source": []
  },
  {
   "cell_type": "code",
   "execution_count": null,
   "metadata": {},
   "outputs": [],
   "source": []
  },
  {
   "cell_type": "code",
   "execution_count": null,
   "metadata": {},
   "outputs": [],
   "source": []
  }
 ],
 "metadata": {
  "kernelspec": {
   "display_name": "nlp_envir",
   "language": "python",
   "name": "python3"
  },
  "language_info": {
   "codemirror_mode": {
    "name": "ipython",
    "version": 3
   },
   "file_extension": ".py",
   "mimetype": "text/x-python",
   "name": "python",
   "nbconvert_exporter": "python",
   "pygments_lexer": "ipython3",
   "version": "3.11.7"
  }
 },
 "nbformat": 4,
 "nbformat_minor": 2
}
