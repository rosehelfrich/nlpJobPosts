{
 "cells": [
  {
   "cell_type": "markdown",
   "metadata": {},
   "source": [
    "These Job Summaries were initially developed to filter the text to the most important information. Unfortunately, the model proved to be ineffective, and as a result, the summaries were not utilized."
   ]
  },
  {
   "cell_type": "code",
   "execution_count": null,
   "metadata": {},
   "outputs": [],
   "source": [
    "import numpy as np\n",
    "import pandas as pd\n",
    "\n",
    "import torch\n",
    "from transformers import BartForConditionalGeneration, BartTokenizer\n",
    "import textwrap\n"
   ]
  },
  {
   "cell_type": "code",
   "execution_count": null,
   "metadata": {},
   "outputs": [],
   "source": [
    "df = pd.read_csv('dfCleaned.csv', engine='python')"
   ]
  },
  {
   "cell_type": "code",
   "execution_count": null,
   "metadata": {},
   "outputs": [],
   "source": [
    "model_name = \"facebook/bart-large-cnn\"\n",
    "model = BartForConditionalGeneration.from_pretrained(model_name)\n",
    "tokenizer = BartTokenizer.from_pretrained(model_name)\n",
    "\n",
    "def textSummary(text):\n",
    "    inputs = tokenizer.encode(text, return_tensors=\"pt\", max_length=512, truncation=True, ) #padding=\"max_length\")\n",
    "    summary_ids = model.generate(inputs, max_length=150, min_length=50, length_penalty=2.0, num_beams=4, early_stopping=True)\n",
    "    summary = tokenizer.decode(summary_ids[0], skip_special_tokens=True)\n",
    "    formatted_summary = \" \".join(textwrap.wrap(summary, width=80))\n",
    "    return formatted_summary\n",
    "\n",
    "df['description summary'] = pd.Series(dtype=\"string\")"
   ]
  },
  {
   "cell_type": "code",
   "execution_count": null,
   "metadata": {},
   "outputs": [],
   "source": [
    "# Ideally, this line would be used to generate the summaries.  Due to system timeouts, the task had to be divided.\n",
    "\n",
    "#df['description summary'] = df['descriptionShort'].apply(lambda text: textSummary(text))"
   ]
  },
  {
   "cell_type": "code",
   "execution_count": null,
   "metadata": {},
   "outputs": [],
   "source": [
    "# This line was utilized repeatedly to divide the task. On my systems, processing every hundred records requires 10 minutes.\n",
    "\n",
    "def splitSummary(lower, upper):\n",
    "    df['description summary'][lower:upper] = df['descriptionShort'][lower:upper].apply(lambda text: textSummary(text))"
   ]
  },
  {
   "cell_type": "code",
   "execution_count": null,
   "metadata": {},
   "outputs": [],
   "source": [
    "splitSummary(450, 507)\n",
    "\n",
    "df[df['description summary'].isnull()]"
   ]
  },
  {
   "cell_type": "code",
   "execution_count": null,
   "metadata": {},
   "outputs": [],
   "source": [
    "df.to_csv('dfSummary.csv', index=False)"
   ]
  },
  {
   "cell_type": "code",
   "execution_count": null,
   "metadata": {},
   "outputs": [],
   "source": []
  }
 ],
 "metadata": {
  "kernelspec": {
   "display_name": "nlp_envir",
   "language": "python",
   "name": "python3"
  },
  "language_info": {
   "codemirror_mode": {
    "name": "ipython",
    "version": 3
   },
   "file_extension": ".py",
   "mimetype": "text/x-python",
   "name": "python",
   "nbconvert_exporter": "python",
   "pygments_lexer": "ipython3",
   "version": "3.11.7"
  }
 },
 "nbformat": 4,
 "nbformat_minor": 2
}
