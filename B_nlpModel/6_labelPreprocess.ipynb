{
 "cells": [
  {
   "cell_type": "code",
   "execution_count": 1,
   "metadata": {},
   "outputs": [],
   "source": [
    "import numpy as np\n",
    "import pandas as pd\n",
    "import re\n",
    "\n",
    "import nltk\n",
    "from nltk.corpus import stopwords \n",
    "from nltk.tokenize import word_tokenize\n",
    "from nltk.stem import WordNetLemmatizer\n",
    "\n",
    "from collections import Counter\n",
    "\n",
    "import matplotlib.pyplot as plt\n",
    "import seaborn as sns\n",
    "#import pickle\n",
    "\n",
    "#nltk.download('punkt')\n",
    "#nltk.download('stopwords')"
   ]
  },
  {
   "cell_type": "code",
   "execution_count": 2,
   "metadata": {},
   "outputs": [],
   "source": [
    "lemmatizer = WordNetLemmatizer()\n",
    "stopWords = set(list(stopwords.words(\"english\")) + ['work', 'environment', 'etc', 'also', 'application', 'click', 'e.g', 'opportunity', '\\'ll', '\\'re', '\\'s', ',', '!', '.', ':', ';',]) \n",
    "\n",
    "# Lemma, filter out stopwords. \n",
    "def text2LemmaNoStops(text):\n",
    "    tokens = word_tokenize(text.lower())\n",
    "    filteredTokens = [lemmatizer.lemmatize(token, \"n\") for token in tokens if token not in stopWords]\n",
    "    return \" \".join(filteredTokens)\n",
    "\n",
    "# Ensures the tokens are unique, and sorts the tokens from A-Z. \n",
    "def text2Unique(text):\n",
    "    tokens = word_tokenize(text)\n",
    "    uniqueTokens = sorted(set(tokens))\n",
    "    return \" \".join(uniqueTokens)\n",
    "\n",
    "# Takes a list and counts the tokens\n",
    "# Returns a frequency df with the tokens\n",
    "def countTokens(textList):\n",
    "    c = Counter()\n",
    "    for row in textList:\n",
    "        c.update(word_tokenize(row))\n",
    "    return pd.DataFrame(c.items(), columns=['Keyword', 'Frequency']).sort_values(by='Frequency', ascending=False, ignore_index=True)\n",
    "\n",
    "# Used to cross reference jobDescriptions with key tokens or phrases\n",
    "def crossRef(columnList, labelList):\n",
    "    labelSet = set(labelList)\n",
    "    intersection = [\" \".join([token for token in word_tokenize(row) if token in labelSet]) for row in columnList]\n",
    "    return intersection"
   ]
  },
  {
   "cell_type": "code",
   "execution_count": 3,
   "metadata": {},
   "outputs": [],
   "source": [
    "df = pd.read_csv('dfSummary.csv', engine='python').loc[:,['jobTitle', 'descriptionShort', ]] # 'description summary'\n",
    "\n",
    "# Descriptions with no stopwords and lemmatized \n",
    "jobDescribe = df['descriptionShort'].apply(text2LemmaNoStops)\n",
    "\n",
    "# Description with only unique tokens\n",
    "jobDescribeUnique = jobDescribe.apply(text2Unique)\n",
    "\n",
    "\n",
    "# The commented-out-variables (below) were put into the model for testing, but were eventually excluded due to unsatisfactory results.\n",
    "\n",
    "# These generated topics were nonsensical or overly random. For instance, one topic listed \"tesla\" as the first word among 13, but a search in my dataframe showed only 3 jobs mentioned Tesla, making \"tesla\" an inaccurate descriptor for that group.\n",
    "# df['description NoStops'] = jobDescribe.copy()\n",
    "\n",
    "# This generated a few extremely broad topics. \n",
    "# df['summary NoStops'] = df['description summary'].apply(text2LemmaNoStops)"
   ]
  },
  {
   "cell_type": "code",
   "execution_count": 4,
   "metadata": {},
   "outputs": [],
   "source": [
    "# Identify most frequent tokens. \n",
    "# This has at most one per jobDescription\n",
    "tokensGeneral = countTokens(jobDescribeUnique)\n",
    "\n",
    "# Words must be in more than 10 of the job descriptions. \n",
    "tokensGeneral = tokensGeneral[(tokensGeneral['Frequency'] > 10)].reset_index(drop=True)"
   ]
  },
  {
   "cell_type": "code",
   "execution_count": 5,
   "metadata": {},
   "outputs": [
    {
     "data": {
      "image/png": "[encoded data removed]",
      "text/plain": [
       "<Figure size 1500x1000 with 1 Axes>"
      ]
     },
     "metadata": {},
     "output_type": "display_data"
    }
   ],
   "source": [
    "# Plot token frequency\n",
    "fig, ax = plt.subplots(figsize=(15,10))\n",
    "\n",
    "X = tokensGeneral.index\n",
    "Y = tokensGeneral['Frequency'].sort_values(ascending=False)\n",
    "\n",
    "sns.barplot(x=X, y=Y, ax=ax)\n",
    "\n",
    "plt.hlines(y=75, xmin=0, xmax=len(X))\n",
    "plt.ylabel('Token Frequency')\n",
    "plt.title('Token Frequency in Job Descriptions')\n",
    "plt.show()\n"
   ]
  },
  {
   "cell_type": "code",
   "execution_count": 6,
   "metadata": {},
   "outputs": [],
   "source": [
    "# Used above to determine the cutoff for the most frequent tokens \n",
    "tokensFreq = tokensGeneral[tokensGeneral['Frequency'] > 74]['Keyword'].tolist()"
   ]
  },
  {
   "cell_type": "code",
   "execution_count": 7,
   "metadata": {},
   "outputs": [],
   "source": [
    "# Created new columns by cross referencing jobDescribe with the technology list and keyword list\n",
    "# Lemmatized tokens before import.\n",
    "tokensTech = pd.read_csv('listTechnology.csv', engine='python')['Technology'].dropna().to_list()\n",
    "df['Tech Stack'] = crossRef(jobDescribeUnique, tokensTech)\n",
    "\n",
    "# This list began as a LinkedIn post about common data science topics and evolved extensively by adding topics from model iterations. It is now unrecognizable from the original source.\n",
    "tokensKeywords = pd.read_csv('listKeywords.csv', engine='python')['Keyword'].to_list()\n",
    "df['Key Phrases'] = crossRef(jobDescribe, tokensKeywords)\n",
    "\n",
    "#Note: When running the model with both unique and repeated tokens, the model consistently generated more categories with greater detail using repeated tokens. This suggests that the model derived the most benefit from the density of repeated tokens."
   ]
  },
  {
   "cell_type": "code",
   "execution_count": 8,
   "metadata": {},
   "outputs": [],
   "source": [
    "# Created new column with the frequent, technology, and keyword tokens.  \n",
    "tokensBOWs = sorted(set(tokensFreq + tokensTech + tokensKeywords))\n",
    "df['Bag of Words'] = crossRef(jobDescribe, tokensBOWs)"
   ]
  },
  {
   "cell_type": "code",
   "execution_count": 9,
   "metadata": {},
   "outputs": [],
   "source": [
    "df.replace('', np.NaN, inplace=True)\n",
    "df.to_csv('dfPreprocessed.csv', index=False)"
   ]
  },
  {
   "cell_type": "code",
   "execution_count": 10,
   "metadata": {},
   "outputs": [
    {
     "name": "stdout",
     "output_type": "stream",
     "text": [
      "<class 'pandas.core.frame.DataFrame'>\n",
      "RangeIndex: 507 entries, 0 to 506\n",
      "Data columns (total 5 columns):\n",
      " #   Column            Non-Null Count  Dtype \n",
      "---  ------            --------------  ----- \n",
      " 0   jobTitle          506 non-null    object\n",
      " 1   descriptionShort  507 non-null    object\n",
      " 2   Tech Stack        382 non-null    object\n",
      " 3   Key Phrases       507 non-null    object\n",
      " 4   Bag of Words      507 non-null    object\n",
      "dtypes: object(5)\n",
      "memory usage: 19.9+ KB\n"
     ]
    }
   ],
   "source": [
    "df.info()"
   ]
  },
  {
   "cell_type": "code",
   "execution_count": 11,
   "metadata": {},
   "outputs": [
    {
     "data": {
      "text/plain": [
       "jobTitle            318\n",
       "descriptionShort    506\n",
       "Tech Stack          254\n",
       "Key Phrases         503\n",
       "Bag of Words        506\n",
       "dtype: int64"
      ]
     },
     "execution_count": 11,
     "metadata": {},
     "output_type": "execute_result"
    }
   ],
   "source": [
    "df.nunique()"
   ]
  },
  {
   "cell_type": "code",
   "execution_count": 12,
   "metadata": {},
   "outputs": [
    {
     "data": {
      "text/plain": [
       "Index(['jobTitle', 'descriptionShort', 'Tech Stack', 'Key Phrases',\n",
       "       'Bag of Words'],\n",
       "      dtype='object')"
      ]
     },
     "execution_count": 12,
     "metadata": {},
     "output_type": "execute_result"
    }
   ],
   "source": [
    "df.columns"
   ]
  },
  {
   "cell_type": "code",
   "execution_count": 13,
   "metadata": {},
   "outputs": [
    {
     "data": {
      "text/html": [
       "<div>\n",
       "<style scoped>\n",
       "    .dataframe tbody tr th:only-of-type {\n",
       "        vertical-align: middle;\n",
       "    }\n",
       "\n",
       "    .dataframe tbody tr th {\n",
       "        vertical-align: top;\n",
       "    }\n",
       "\n",
       "    .dataframe thead th {\n",
       "        text-align: right;\n",
       "    }\n",
       "</style>\n",
       "<table border=\"1\" class=\"dataframe\">\n",
       "  <thead>\n",
       "    <tr style=\"text-align: right;\">\n",
       "      <th></th>\n",
       "      <th>jobTitle</th>\n",
       "      <th>descriptionShort</th>\n",
       "      <th>Tech Stack</th>\n",
       "      <th>Key Phrases</th>\n",
       "      <th>Bag of Words</th>\n",
       "    </tr>\n",
       "  </thead>\n",
       "  <tbody>\n",
       "    <tr>\n",
       "      <th>0</th>\n",
       "      <td>Senior Scientist</td>\n",
       "      <td>At Element Biosciences, we are passionate abou...</td>\n",
       "      <td>NaN</td>\n",
       "      <td>community scientist biochemistry molecular bio...</td>\n",
       "      <td>passionate mission scientific community impact...</td>\n",
       "    </tr>\n",
       "    <tr>\n",
       "      <th>1</th>\n",
       "      <td>Data Scientist Finance</td>\n",
       "      <td>About Us: Live experiences help people cross t...</td>\n",
       "      <td>python sql</td>\n",
       "      <td>digital world life data-driven data operation ...</td>\n",
       "      <td>u experience help people digital focus u new u...</td>\n",
       "    </tr>\n",
       "    <tr>\n",
       "      <th>2</th>\n",
       "      <td>Air Quality Modeling Scientist</td>\n",
       "      <td>PSE Healthy Energy is seeking a full-time air ...</td>\n",
       "      <td>github python r</td>\n",
       "      <td>energy scientist scientist scientist energy he...</td>\n",
       "      <td>energy seeking quality modeling scientist assi...</td>\n",
       "    </tr>\n",
       "    <tr>\n",
       "      <th>3</th>\n",
       "      <td>Data Scientist</td>\n",
       "      <td>We are interested in every qualified candidate...</td>\n",
       "      <td>python r sql</td>\n",
       "      <td>time data scientist develop model time analysi...</td>\n",
       "      <td>every candidate able take time role analyst da...</td>\n",
       "    </tr>\n",
       "    <tr>\n",
       "      <th>4</th>\n",
       "      <td>Marketing Data Research Specialist</td>\n",
       "      <td>Company Overview AdCellerant is an award-winni...</td>\n",
       "      <td>tableau</td>\n",
       "      <td>service digital sale software data research an...</td>\n",
       "      <td>company service company digital marketing solu...</td>\n",
       "    </tr>\n",
       "    <tr>\n",
       "      <th>...</th>\n",
       "      <td>...</td>\n",
       "      <td>...</td>\n",
       "      <td>...</td>\n",
       "      <td>...</td>\n",
       "      <td>...</td>\n",
       "    </tr>\n",
       "    <tr>\n",
       "      <th>502</th>\n",
       "      <td>Data Scientist</td>\n",
       "      <td>This is a based position. All of the programs ...</td>\n",
       "      <td>airflow aws azure gcp hadoop pipeline powerbi ...</td>\n",
       "      <td>distributed data system development range edge...</td>\n",
       "      <td>based position program support must within bus...</td>\n",
       "    </tr>\n",
       "    <tr>\n",
       "      <th>503</th>\n",
       "      <td>Applied Scientist Machine Learning</td>\n",
       "      <td>We are looking for experienced and accomplishe...</td>\n",
       "      <td>java python r</td>\n",
       "      <td>applied scientist machine learning ml research...</td>\n",
       "      <td>looking applied scientist machine learning ml ...</td>\n",
       "    </tr>\n",
       "    <tr>\n",
       "      <th>504</th>\n",
       "      <td>Data Science and Machine Learning Matching Spe...</td>\n",
       "      <td>About Andela Andela exists to connect brillian...</td>\n",
       "      <td>NaN</td>\n",
       "      <td>future world network innovation growth growth ...</td>\n",
       "      <td>global future organization around world compan...</td>\n",
       "    </tr>\n",
       "    <tr>\n",
       "      <th>505</th>\n",
       "      <td>Data Scientist REMOTE</td>\n",
       "      <td>PTP is a fast-growing system integrator that o...</td>\n",
       "      <td>aws python sql tableau</td>\n",
       "      <td>system strategic data scientist machine learni...</td>\n",
       "      <td>system offer strategic customer experience sol...</td>\n",
       "    </tr>\n",
       "    <tr>\n",
       "      <th>506</th>\n",
       "      <td>Data Scientist</td>\n",
       "      <td>Become an Outcoder as a Data Scientist We are ...</td>\n",
       "      <td>python r sql</td>\n",
       "      <td>data scientist data scientist analytics data o...</td>\n",
       "      <td>data scientist looking data scientist join ana...</td>\n",
       "    </tr>\n",
       "  </tbody>\n",
       "</table>\n",
       "<p>507 rows × 5 columns</p>\n",
       "</div>"
      ],
      "text/plain": [
       "                                              jobTitle  \\\n",
       "0                                     Senior Scientist   \n",
       "1                               Data Scientist Finance   \n",
       "2                       Air Quality Modeling Scientist   \n",
       "3                                       Data Scientist   \n",
       "4                   Marketing Data Research Specialist   \n",
       "..                                                 ...   \n",
       "502                                     Data Scientist   \n",
       "503                 Applied Scientist Machine Learning   \n",
       "504  Data Science and Machine Learning Matching Spe...   \n",
       "505                              Data Scientist REMOTE   \n",
       "506                                     Data Scientist   \n",
       "\n",
       "                                      descriptionShort  \\\n",
       "0    At Element Biosciences, we are passionate abou...   \n",
       "1    About Us: Live experiences help people cross t...   \n",
       "2    PSE Healthy Energy is seeking a full-time air ...   \n",
       "3    We are interested in every qualified candidate...   \n",
       "4    Company Overview AdCellerant is an award-winni...   \n",
       "..                                                 ...   \n",
       "502  This is a based position. All of the programs ...   \n",
       "503  We are looking for experienced and accomplishe...   \n",
       "504  About Andela Andela exists to connect brillian...   \n",
       "505  PTP is a fast-growing system integrator that o...   \n",
       "506  Become an Outcoder as a Data Scientist We are ...   \n",
       "\n",
       "                                            Tech Stack  \\\n",
       "0                                                  NaN   \n",
       "1                                           python sql   \n",
       "2                                      github python r   \n",
       "3                                         python r sql   \n",
       "4                                              tableau   \n",
       "..                                                 ...   \n",
       "502  airflow aws azure gcp hadoop pipeline powerbi ...   \n",
       "503                                      java python r   \n",
       "504                                                NaN   \n",
       "505                             aws python sql tableau   \n",
       "506                                       python r sql   \n",
       "\n",
       "                                           Key Phrases  \\\n",
       "0    community scientist biochemistry molecular bio...   \n",
       "1    digital world life data-driven data operation ...   \n",
       "2    energy scientist scientist scientist energy he...   \n",
       "3    time data scientist develop model time analysi...   \n",
       "4    service digital sale software data research an...   \n",
       "..                                                 ...   \n",
       "502  distributed data system development range edge...   \n",
       "503  applied scientist machine learning ml research...   \n",
       "504  future world network innovation growth growth ...   \n",
       "505  system strategic data scientist machine learni...   \n",
       "506  data scientist data scientist analytics data o...   \n",
       "\n",
       "                                          Bag of Words  \n",
       "0    passionate mission scientific community impact...  \n",
       "1    u experience help people digital focus u new u...  \n",
       "2    energy seeking quality modeling scientist assi...  \n",
       "3    every candidate able take time role analyst da...  \n",
       "4    company service company digital marketing solu...  \n",
       "..                                                 ...  \n",
       "502  based position program support must within bus...  \n",
       "503  looking applied scientist machine learning ml ...  \n",
       "504  global future organization around world compan...  \n",
       "505  system offer strategic customer experience sol...  \n",
       "506  data scientist looking data scientist join ana...  \n",
       "\n",
       "[507 rows x 5 columns]"
      ]
     },
     "execution_count": 13,
     "metadata": {},
     "output_type": "execute_result"
    }
   ],
   "source": [
    "df"
   ]
  }
 ],
 "metadata": {
  "kernelspec": {
   "display_name": "nlp_envir",
   "language": "python",
   "name": "python3"
  },
  "language_info": {
   "codemirror_mode": {
    "name": "ipython",
    "version": 3
   },
   "file_extension": ".py",
   "mimetype": "text/x-python",
   "name": "python",
   "nbconvert_exporter": "python",
   "pygments_lexer": "ipython3",
   "version": "3.11.7"
  }
 },
 "nbformat": 4,
 "nbformat_minor": 2
}
