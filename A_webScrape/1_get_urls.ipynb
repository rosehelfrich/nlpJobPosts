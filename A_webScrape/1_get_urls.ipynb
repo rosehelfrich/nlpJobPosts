{
 "cells": [
  {
   "cell_type": "code",
   "execution_count": null,
   "metadata": {},
   "outputs": [],
   "source": [
    "import requests\n",
    "import re\n",
    "from bs4 import BeautifulSoup, SoupStrainer\n",
    "import json\n",
    "\n",
    "# Hiding the authKey\n",
    "import os\n",
    "from dotenv import load_dotenv\n",
    "load_dotenv()  # This loads the environment variables from .env\n",
    "httpAPI = os.getenv('httpAPI')\n",
    "httpsAPI = os.getenv('httpsAPI')"
   ]
  },
  {
   "cell_type": "code",
   "execution_count": null,
   "metadata": {},
   "outputs": [],
   "source": [
    "# Only needed if trying to load list into this file\n",
    "# If doesn't load, then check the list to make sure it doesn't have extra [] in the list. \n",
    "with open('url_list.json', 'r') as myfile:\n",
    "    links = json.load(myfile)"
   ]
  },
  {
   "cell_type": "code",
   "execution_count": null,
   "metadata": {},
   "outputs": [],
   "source": [
    "# multiple pages were returned with the original url_from.  \n",
    "# The for loop lets us collect from all the pages in the url_from. \n",
    "for page in range(31, 60):\n",
    "    page = str(page)\n",
    "    url_from = \"https://builtin.com/jobs/data-analytics/data-science/machine-learning/mid-level?page=\" + page\n",
    "\n",
    "    # This lets me request using the Zyte Proxy.  The 'zyte-ca.crt' has to be installed to work.   \n",
    "    r = requests.get(url_from,\n",
    "        proxies={\n",
    "            \"http\": httpAPI,\n",
    "            \"https\": httpsAPI,\n",
    "        },\n",
    "        verify='.zyte-ca.crt' \n",
    "    )\n",
    "    # The SoupStrainer filters out the majority of the unneed html from the website. \n",
    "    # Only the information with this id is neccessary.  \n",
    "    is_strain = SoupStrainer(id='job-card-alias')\n",
    "    soup = BeautifulSoup(r.content, 'html.parser', parse_only=is_strain)\n",
    "\n",
    "    # Now we format the information to be in a format we can use.\n",
    "    # We did pull information that we don't need, so the split lets us pull only the url. \n",
    "    # Then we add to our list. \n",
    "    for row in range(len(soup.contents)):\n",
    "        str_row = str(soup.contents[row])\n",
    "        a, b, c = re.split('href=\\\"|\\\" id=', str_row)\n",
    "        new_url = \"https://builtin.com\" + b\n",
    "        links.append(new_url)\n",
    "        \n"
   ]
  },
  {
   "cell_type": "code",
   "execution_count": null,
   "metadata": {},
   "outputs": [],
   "source": [
    "print(r.status_code)\n",
    "# 200 status code, if it's a 400 number than it's an error. "
   ]
  },
  {
   "cell_type": "code",
   "execution_count": null,
   "metadata": {},
   "outputs": [],
   "source": [
    "\n",
    "# If going to run above again, might want to clear the list to not make unneccessary duplicates. \n",
    "# Check the list to make sure it doesn't have extra [] in the list. \n",
    "with open('url_list.json', 'a') as myfile:\n",
    "    json.dump(links, myfile)\n",
    "\n",
    "#links = [] "
   ]
  },
  {
   "cell_type": "code",
   "execution_count": null,
   "metadata": {},
   "outputs": [],
   "source": [
    "print(f'Found {len(links)} urls')"
   ]
  }
 ],
 "metadata": {
  "kernelspec": {
   "display_name": "base",
   "language": "python",
   "name": "python3"
  },
  "language_info": {
   "codemirror_mode": {
    "name": "ipython",
    "version": 3
   },
   "file_extension": ".py",
   "mimetype": "text/x-python",
   "name": "python",
   "nbconvert_exporter": "python",
   "pygments_lexer": "ipython3",
   "version": "3.11.7"
  }
 },
 "nbformat": 4,
 "nbformat_minor": 2
}
